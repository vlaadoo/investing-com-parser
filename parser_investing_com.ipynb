{
 "cells": [
  {
   "cell_type": "code",
   "execution_count": null,
   "id": "informational-attempt",
   "metadata": {},
   "outputs": [],
   "source": [
    "!pip install selenium\n",
    "!pip install tqdm"
   ]
  },
  {
   "cell_type": "code",
   "execution_count": 1,
   "id": "solar-given",
   "metadata": {},
   "outputs": [],
   "source": [
    "from selenium import webdriver\n",
    "from selenium.webdriver.common.keys import Keys\n",
    "from selenium.webdriver.common.by import By\n",
    "from selenium.webdriver.support import expected_conditions as EC\n",
    "from selenium.webdriver.support.ui import WebDriverWait\n",
    "\n",
    "from tqdm import tqdm\n",
    "import pandas as pd\n",
    "import re\n",
    "\n",
    "import tickers\n",
    "\n",
    "import time"
   ]
  },
  {
   "cell_type": "code",
   "execution_count": 2,
   "id": "alert-progress",
   "metadata": {},
   "outputs": [],
   "source": [
    "def getListOfTicketNames(dict):\n",
    "    list = []\n",
    "    for key in dict.keys():\n",
    "        list.append(key)\n",
    "          \n",
    "    return list"
   ]
  },
  {
   "cell_type": "code",
   "execution_count": 3,
   "id": "prostate-greene",
   "metadata": {},
   "outputs": [],
   "source": [
    "def getIncomeStatement(link):\n",
    "    if (link == \"https://www.investing.com/equities/linde-plc\"):\n",
    "        resultIncomeStatementLink = link + \"-income-statement?cid=942017\"\n",
    "    else:\n",
    "        resultIncomeStatementLink = link + \"-income-statement\"\n",
    "\n",
    "    return resultIncomeStatementLink"
   ]
  },
  {
   "cell_type": "code",
   "execution_count": 4,
   "id": "phantom-concrete",
   "metadata": {},
   "outputs": [],
   "source": [
    "def getBalanceSheet(link):\n",
    "    if (link == \"https://www.investing.com/equities/linde-plc\"):\n",
    "        resultBalanceSheetLink = link + \"-balance-sheet?cid=942017\"\n",
    "    else:\n",
    "        resultBalanceSheetLink = link + \"-balance-sheet\"\n",
    "\n",
    "    return resultBalanceSheetLink"
   ]
  },
  {
   "cell_type": "code",
   "execution_count": 5,
   "id": "liable-uncle",
   "metadata": {},
   "outputs": [],
   "source": [
    "def getCashFlow(link):\n",
    "    if (link == \"https://www.investing.com/equities/linde-plc\"):\n",
    "        resultCashFlowLink = link + \"-cash-flow?cid=942017\"\n",
    "    else:\n",
    "        resultCashFlowLink = link + \"-cash-flow\"\n",
    "    return resultCashFlowLink"
   ]
  },
  {
   "cell_type": "code",
   "execution_count": 6,
   "id": "valued-avenue",
   "metadata": {},
   "outputs": [],
   "source": [
    "res_list_income = {}\n",
    "res_list_balance = {}\n",
    "res_list_cash = {}\n",
    "\n",
    "links = tickers.getTicketLinks()\n",
    "tkts = getListOfTicketNames(links)"
   ]
  },
  {
   "cell_type": "markdown",
   "id": "boring-earth",
   "metadata": {},
   "source": [
    "Потребуются Firefox и данный плагин для корректной работы скрипта\n",
    "\n",
    "https://addons.mozilla.org/ru/firefox/addon/ublock-origin/?utm_source=addons.mozilla.org&utm_medium=referral&utm_content=search"
   ]
  },
  {
   "cell_type": "code",
   "execution_count": 8,
   "id": "weighted-lightweight",
   "metadata": {
    "scrolled": false
   },
   "outputs": [
    {
     "name": "stdout",
     "output_type": "stream",
     "text": [
      "driver ready\n"
     ]
    },
    {
     "name": "stderr",
     "output_type": "stream",
     "text": [
      "  0%|          | 0/505 [00:00<?, ?it/s]<ipython-input-8-da4a7b8e43b5>:17: DeprecationWarning: find_element_by_* commands are deprecated. Please use find_element() instead\n",
      "  driver.find_element_by_xpath('/html/body/div[5]/section/div[8]/div[1]/a[1]').click()\n",
      "<ipython-input-8-da4a7b8e43b5>:23: DeprecationWarning: find_elements_by_* commands are deprecated. Please use find_elements() instead\n",
      "  res_list_income[tkts[tick_num]] = driver.find_elements_by_xpath('/html/body/div[5]/section/div[9]/table/tbody[2]/tr')\n",
      "<ipython-input-8-da4a7b8e43b5>:35: DeprecationWarning: find_element_by_* commands are deprecated. Please use find_element() instead\n",
      "  driver.find_element_by_xpath('/html/body/div[5]/section/div[8]/div[1]/a[1]').click()\n",
      "<ipython-input-8-da4a7b8e43b5>:41: DeprecationWarning: find_elements_by_* commands are deprecated. Please use find_elements() instead\n",
      "  res_list_balance[tkts[tick_num]] = driver.find_elements_by_xpath('/html/body/div[5]/section/div[9]/table/tbody[2]/tr')\n",
      "<ipython-input-8-da4a7b8e43b5>:53: DeprecationWarning: find_element_by_* commands are deprecated. Please use find_element() instead\n",
      "  driver.find_element_by_xpath('/html/body/div[5]/section/div[8]/div[1]/a[1]').click()\n",
      "<ipython-input-8-da4a7b8e43b5>:59: DeprecationWarning: find_elements_by_* commands are deprecated. Please use find_elements() instead\n",
      "  res_list_cash[tkts[tick_num]] = driver.find_elements_by_xpath('/html/body/div[5]/section/div[9]/table/tbody[2]/tr')\n",
      "100%|██████████| 505/505 [4:17:30<00:00, 30.59s/it]  \n"
     ]
    },
    {
     "name": "stdout",
     "output_type": "stream",
     "text": [
      "close\n"
     ]
    }
   ],
   "source": [
    "driver = webdriver.Firefox()\n",
    "extension_dir = '/Users/vladoo/Library/Application Support/Firefox/Profiles/dqobynzc.default-release/extensions/'\n",
    "extensions = [\n",
    "    'uBlock0@raymondhill.net.xpi',\n",
    "    ]\n",
    "for extension in extensions:\n",
    "    driver.install_addon(extension_dir + extension, temporary=True)\n",
    "        \n",
    "print(\"driver ready\")   \n",
    "\n",
    "tick_num = 0\n",
    "for i in tqdm(links):\n",
    "    \n",
    "    driver.get(getIncomeStatement(links[i]))\n",
    "    time.sleep(2)\n",
    "    try:\n",
    "        driver.find_element_by_xpath('/html/body/div[5]/section/div[8]/div[1]/a[1]').click()\n",
    "    except: \n",
    "        print(str(tkts[tick_num]) + 'XPATH not found. Trying another')\n",
    "        driver.find_element_by_xpath('/html/body/div[5]/section/div[9]/div[1]/a[1]').click()\n",
    "        \n",
    "    time.sleep(5)\n",
    "    res_list_income[tkts[tick_num]] = driver.find_elements_by_xpath('/html/body/div[5]/section/div[9]/table/tbody[2]/tr')\n",
    "\n",
    "    n = 0\n",
    "    for el_inc in res_list_income[tkts[tick_num]]:\n",
    "        res_list_income[tkts[tick_num]][n] = el_inc.text\n",
    "        n+=1\n",
    "        \n",
    "# ----------------------------------------------------------------------------------\n",
    "\n",
    "    driver.get(getBalanceSheet(links[i]))\n",
    "    time.sleep(2)\n",
    "    try:\n",
    "        driver.find_element_by_xpath('/html/body/div[5]/section/div[8]/div[1]/a[1]').click()\n",
    "    except: \n",
    "        print(str(tkts[tick_num]) + 'XPATH not found. Trying another')\n",
    "        driver.find_element_by_xpath('/html/body/div[5]/section/div[9]/div[1]/a[1]').click()\n",
    "    \n",
    "    time.sleep(5)\n",
    "    res_list_balance[tkts[tick_num]] = driver.find_elements_by_xpath('/html/body/div[5]/section/div[9]/table/tbody[2]/tr')\n",
    "\n",
    "    n = 0\n",
    "    for el_bal in res_list_balance[tkts[tick_num]]:\n",
    "        res_list_balance[tkts[tick_num]][n] = el_bal.text\n",
    "        n+=1\n",
    "            \n",
    "# ----------------------------------------------------------------------------------\n",
    "\n",
    "    driver.get(getCashFlow(links[i]))\n",
    "    time.sleep(2)\n",
    "    try:\n",
    "        driver.find_element_by_xpath('/html/body/div[5]/section/div[8]/div[1]/a[1]').click()\n",
    "    except: \n",
    "        print(str(tkts[tick_num]) + 'XPATH not found. Trying another')\n",
    "        driver.find_element_by_xpath('/html/body/div[5]/section/div[9]/div[1]/a[1]').click()\n",
    "\n",
    "    time.sleep(5)\n",
    "    res_list_cash[tkts[tick_num]] = driver.find_elements_by_xpath('/html/body/div[5]/section/div[9]/table/tbody[2]/tr')\n",
    "\n",
    "    n = 0\n",
    "    for el_cash in res_list_cash[tkts[tick_num]]:\n",
    "        res_list_cash[tkts[tick_num]][n] = el_cash.text\n",
    "        n+=1\n",
    "        \n",
    "        \n",
    "    tick_num += 1\n",
    "    time.sleep(3)\n",
    "    \n",
    "    \n",
    "driver.close()\n",
    "print('close')"
   ]
  },
  {
   "cell_type": "markdown",
   "id": "regional-collapse",
   "metadata": {},
   "source": [
    "res_list_income['MMM'] -- лист строк по тикеру <br>\n",
    "res_list_income['MMM'][0] -- вывыести конкреткую строку по тикеру"
   ]
  },
  {
   "cell_type": "code",
   "execution_count": 9,
   "id": "animated-saying",
   "metadata": {},
   "outputs": [],
   "source": [
    "patterns = [\n",
    "re.compile(\"(?:^Revenue\\s-?\\d{0,}[.]?([0-9]+)?\\s-?\\d{0,}[.]?([0-9]+)?\\s-?\\d{0,}[.]?([0-9]+)?\\s-?\\d{0,}[.]?([0-9]+)?)\"),\n",
    "re.compile(\"(?:^Cost of Revenue, Total\\s-?\\d{0,}[.]?([0-9]+)?\\s-?\\d{0,}[.]?([0-9]+)?\\s-?\\d{0,}[.]?([0-9]+)?\\s-?\\d{0,}[.]?([0-9]+)?)\"),\n",
    "re.compile(\"(?:Total Assets\\s-?\\d{0,}[.]?([0-9]+)?\\s-?\\d{0,}[.]?([0-9]+)?\\s-?\\d{0,}[.]?([0-9]+)?\\s-?\\d{0,}[.]?([0-9]+)?)\"),\n",
    "re.compile(\"(?:^Net Income\\s-?\\d{0,}[.]?([0-9]+)?\\s-?\\d{0,}[.]?([0-9]+)?\\s-?\\d{0,}[.]?([0-9]+)?\\s-?\\d{0,}[.]?([0-9]+)?)\"),\n",
    "re.compile(\"(?:Accumulated Depreciation, Total\\s-?\\d{0,}[.]?([0-9]+)?\\s-?\\d{0,}[.]?([0-9]+)?\\s-?\\d{0,}[.]?([0-9]+)?\\s-?\\d{0,}[.]?([0-9]+)?)\"),\n",
    "re.compile(\"(?:Capital Expenditures\\s-?\\d{0,}[.]?([0-9]+)?\\s-?\\d{0,}[.]?([0-9]+)?\\s-?\\d{0,}[.]?([0-9]+)?\\s-?\\d{0,}[.]?([0-9]+)?)\"),\n",
    "re.compile(\"(?:Total Revenue\\s-?\\d{0,}[.]?([0-9]+)?\\s-?\\d{0,}[.]?([0-9]+)?\\s-?\\d{0,}[.]?([0-9]+)?\\s-?\\d{0,}[.]?([0-9]+)?)\"),\n",
    "re.compile(\"(?:Total Current Assets\\s-?\\d{0,}[.]?([0-9]+)?\\s-?\\d{0,}[.]?([0-9]+)?\\s-?\\d{0,}[.]?([0-9]+)?\\s-?\\d{0,}[.]?([0-9]+)?)\"),\n",
    "re.compile(\"(?:Total Current Liabilities\\s-?\\d{0,}[.]?([0-9]+)?\\s-?\\d{0,}[.]?([0-9]+)?\\s-?\\d{0,}[.]?([0-9]+)?\\s-?\\d{0,}[.]?([0-9]+)?)\"),\n",
    "re.compile(\"(?:Cash and Short Term Investments\\s-?\\d{0,}[.]?([0-9]+)?\\s-?\\d{0,}[.]?([0-9]+)?\\s-?\\d{0,}[.]?([0-9]+)?\\s-?\\d{0,}[.]?([0-9]+)?)\"),\n",
    "re.compile(\"(?:Notes Payable/Short Term Debt\\s-?\\d{0,}[.]?([0-9]+)?\\s-?\\d{0,}[.]?([0-9]+)?\\s-?\\d{0,}[.]?([0-9]+)?\\s-?\\d{0,}[.]?([0-9]+)?)\"),\n",
    "re.compile(\"(?:Payable[/]Accrued\\s-?\\d{0,}[.]?([0-9]+)?\\s-?\\d{0,}[.]?([0-9]+)?\\s-?\\d{0,}[.]?([0-9]+)?\\s-?\\d{0,}[.]?([0-9]+)?)\"),\n",
    "re.compile(\"(?:Other Liabilities, Total\\s-?\\d{0,}[.]?([0-9]+)?\\s-?\\d{0,}[.]?([0-9]+)?\\s-?\\d{0,}[.]?([0-9]+)?\\s-?\\d{0,}[.]?([0-9]+)?)\"),\n",
    "re.compile(\"(?:Net Income Before Taxes\\s-?\\d{0,}[.]?([0-9]+)?\\s-?\\d{0,}[.]?([0-9]+)?\\s-?\\d{0,}[.]?([0-9]+)?\\s-?\\d{0,}[.]?([0-9]+)?)\"),\n",
    "re.compile(\"(?:Changes in Working Capital\\s-?\\d{0,}[.]?([0-9]+)?\\s-?\\d{0,}[.]?([0-9]+)?\\s-?\\d{0,}[.]?([0-9]+)?\\s-?\\d{0,}[.]?([0-9]+)?)\"),\n",
    "re.compile(\"(?:Retained Earnings [(]Accumulated Deficit[)]\\s-?\\d{0,}[.]?([0-9]+)?\\s-?\\d{0,}[.]?([0-9]+)?\\s-?\\d{0,}[.]?([0-9]+)?\\s-?\\d{0,}[.]?([0-9]+)?)\"),\n",
    "re.compile(\"(?:Diluted Normalized EPS\\s-?\\d{0,}[.]?([0-9]+)?\\s-?\\d{0,}[.]?([0-9]+)?\\s-?\\d{0,}[.]?([0-9]+)?\\s-?\\d{0,}[.]?([0-9]+)?)\"),\n",
    "re.compile(\"(?:Total Equity\\s-?\\d{0,}[.]?([0-9]+)?\\s-?\\d{0,}[.]?([0-9]+)?\\s-?\\d{0,}[.]?([0-9]+)?\\s-?\\d{0,}[.]?([0-9]+)?)\"),\n",
    "re.compile(\"(?:Total Common Shares Outstanding\\s-?\\d{0,}[.]?([0-9]+)?\\s-?\\d{0,}[.]?([0-9]+)?\\s-?\\d{0,}[.]?([0-9]+)?\\s-?\\d{0,}[.]?([0-9]+)?)\")\n",
    "]"
   ]
  },
  {
   "cell_type": "code",
   "execution_count": 10,
   "id": "registered-domestic",
   "metadata": {},
   "outputs": [
    {
     "name": "stderr",
     "output_type": "stream",
     "text": [
      "100%|██████████| 505/505 [00:00<00:00, 17023.98it/s]\n"
     ]
    }
   ],
   "source": [
    "after_extract = {}\n",
    "\n",
    "for ticker in tqdm(tkts):\n",
    "    after_extract[ticker] = {}    \n",
    "    for patt in range(len(patterns)):\n",
    "        after_extract[ticker][patt+1] = ['-','-','-','-','-','-','-','-','-','-']"
   ]
  },
  {
   "cell_type": "code",
   "execution_count": 11,
   "id": "suburban-football",
   "metadata": {
    "scrolled": true
   },
   "outputs": [
    {
     "name": "stderr",
     "output_type": "stream",
     "text": [
      "100%|██████████| 505/505 [00:01<00:00, 373.37it/s]\n"
     ]
    }
   ],
   "source": [
    "for ticker in tqdm(tkts):    \n",
    "    for patt in range(len(patterns)):\n",
    "        for line_income in range(len(res_list_income[ticker])):\n",
    "            if (re.search(patterns[patt], res_list_income[ticker][line_income])) is not None:\n",
    "                temp_income = re.search(patterns[patt], res_list_income[ticker][line_income]).group().split()\n",
    "                after_extract[ticker][patt+1] = temp_income\n",
    "            \n",
    "        for line_balance in range(len(res_list_balance[ticker])):\n",
    "            if (re.search(patterns[patt], res_list_balance[ticker][line_balance])) is not None:\n",
    "                temp_balance = re.search(patterns[patt], res_list_balance[ticker][line_balance]).group().split()\n",
    "                after_extract[ticker][patt+1] = temp_balance\n",
    "            \n",
    "        for line_cash in range(len(res_list_cash[ticker])):\n",
    "            if (re.search(patterns[patt], res_list_cash[ticker][line_cash])) is not None:\n",
    "                temp_cash = re.search(patterns[patt], res_list_cash[ticker][line_cash]).group().split()\n",
    "                after_extract[ticker][patt+1] = temp_cash"
   ]
  },
  {
   "cell_type": "code",
   "execution_count": 13,
   "id": "contemporary-cinema",
   "metadata": {
    "scrolled": true
   },
   "outputs": [
    {
     "name": "stderr",
     "output_type": "stream",
     "text": [
      "100%|██████████| 505/505 [00:00<00:00, 559.71it/s]\n"
     ]
    }
   ],
   "source": [
    "df_res = pd.DataFrame(columns=['Indicator', '2020','2019','2018','2017'])\n",
    "\n",
    "indicators = ['revenue','cost of revenue','total assets','net income',\n",
    "              'Accumulated Depreciation, Total','capital expenditures',\n",
    "              'total revenue','total current assets','total current liabilities',\n",
    "              'Cash and Short Term Investments','Notes Payable/Short Term Debt',\n",
    "              'Payable/Accrued','Other Liabilities','Net Income Before Taxes',\n",
    "              'Changes in Working Capital','retained earnings','Diluted Normalized EPS',\n",
    "              'Total Equity','Total Common Shares Outstanding']\n",
    "\n",
    "for t in tqdm(tkts):\n",
    "    ind = [t,'','','','','','','','','','','','','','','','','','']\n",
    "    d = {'Indicator': indicators,\n",
    "         '2020':[after_extract[t][1][1],after_extract[t][2][4],after_extract[t][3][2],after_extract[t][4][2],after_extract[t][5][3],after_extract[t][6][2],after_extract[t][7][2],after_extract[t][8][3],after_extract[t][9][3],after_extract[t][10][5],after_extract[t][11][4],after_extract[t][12][1],after_extract[t][13][3],after_extract[t][14][4],after_extract[t][15][4],after_extract[t][16][4],after_extract[t][17][3],after_extract[t][18][2],after_extract[t][19][4]],\n",
    "         '2019':[after_extract[t][1][2],after_extract[t][2][5],after_extract[t][3][3],after_extract[t][4][3],after_extract[t][5][4],after_extract[t][6][3],after_extract[t][7][3],after_extract[t][8][4],after_extract[t][9][4],after_extract[t][10][6],after_extract[t][11][5],after_extract[t][12][2],after_extract[t][13][4],after_extract[t][14][5],after_extract[t][15][5],after_extract[t][16][5],after_extract[t][17][4],after_extract[t][18][3],after_extract[t][19][5]], \n",
    "         '2018':[after_extract[t][1][3],after_extract[t][2][6],after_extract[t][3][4],after_extract[t][4][4],after_extract[t][5][5],after_extract[t][6][4],after_extract[t][7][4],after_extract[t][8][5],after_extract[t][9][5],after_extract[t][10][7],after_extract[t][11][6],after_extract[t][12][3],after_extract[t][13][5],after_extract[t][14][6],after_extract[t][15][6],after_extract[t][16][6],after_extract[t][17][5],after_extract[t][18][4],after_extract[t][19][6]], \n",
    "         '2017':[after_extract[t][1][4],after_extract[t][2][7],after_extract[t][3][5],after_extract[t][4][5],after_extract[t][5][6],after_extract[t][6][5],after_extract[t][7][5],after_extract[t][8][6],after_extract[t][9][6],after_extract[t][10][8],after_extract[t][11][7],after_extract[t][12][4],after_extract[t][13][6],after_extract[t][14][7],after_extract[t][15][7],after_extract[t][16][7],after_extract[t][17][6],after_extract[t][18][5],after_extract[t][19][7]]\n",
    "        }\n",
    "    df_temp = pd.DataFrame(d, index=ind) \n",
    "    df_res = df_res.append(df_temp)"
   ]
  },
  {
   "cell_type": "code",
   "execution_count": 14,
   "id": "coordinate-dictionary",
   "metadata": {},
   "outputs": [
    {
     "data": {
      "text/html": [
       "<div>\n",
       "<style scoped>\n",
       "    .dataframe tbody tr th:only-of-type {\n",
       "        vertical-align: middle;\n",
       "    }\n",
       "\n",
       "    .dataframe tbody tr th {\n",
       "        vertical-align: top;\n",
       "    }\n",
       "\n",
       "    .dataframe thead th {\n",
       "        text-align: right;\n",
       "    }\n",
       "</style>\n",
       "<table border=\"1\" class=\"dataframe\">\n",
       "  <thead>\n",
       "    <tr style=\"text-align: right;\">\n",
       "      <th></th>\n",
       "      <th>Indicator</th>\n",
       "      <th>2020</th>\n",
       "      <th>2019</th>\n",
       "      <th>2018</th>\n",
       "      <th>2017</th>\n",
       "    </tr>\n",
       "  </thead>\n",
       "  <tbody>\n",
       "    <tr>\n",
       "      <th>MMM</th>\n",
       "      <td>revenue</td>\n",
       "      <td>32184</td>\n",
       "      <td>32136</td>\n",
       "      <td>32765</td>\n",
       "      <td>31657</td>\n",
       "    </tr>\n",
       "    <tr>\n",
       "      <th></th>\n",
       "      <td>cost of revenue</td>\n",
       "      <td>16499</td>\n",
       "      <td>17160</td>\n",
       "      <td>16657</td>\n",
       "      <td>16062</td>\n",
       "    </tr>\n",
       "    <tr>\n",
       "      <th></th>\n",
       "      <td>total assets</td>\n",
       "      <td>47344</td>\n",
       "      <td>44659</td>\n",
       "      <td>36500</td>\n",
       "      <td>37987</td>\n",
       "    </tr>\n",
       "    <tr>\n",
       "      <th></th>\n",
       "      <td>net income</td>\n",
       "      <td>5384</td>\n",
       "      <td>4570</td>\n",
       "      <td>5349</td>\n",
       "      <td>4858</td>\n",
       "    </tr>\n",
       "    <tr>\n",
       "      <th></th>\n",
       "      <td>Accumulated Depreciation, Total</td>\n",
       "      <td>-17229</td>\n",
       "      <td>-16791</td>\n",
       "      <td>-16135</td>\n",
       "      <td>-16048</td>\n",
       "    </tr>\n",
       "    <tr>\n",
       "      <th>...</th>\n",
       "      <td>...</td>\n",
       "      <td>...</td>\n",
       "      <td>...</td>\n",
       "      <td>...</td>\n",
       "      <td>...</td>\n",
       "    </tr>\n",
       "    <tr>\n",
       "      <th></th>\n",
       "      <td>Changes in Working Capital</td>\n",
       "      <td>-85</td>\n",
       "      <td>-151</td>\n",
       "      <td>112</td>\n",
       "      <td>-29</td>\n",
       "    </tr>\n",
       "    <tr>\n",
       "      <th></th>\n",
       "      <td>retained earnings</td>\n",
       "      <td>5659</td>\n",
       "      <td>4427</td>\n",
       "      <td>3270</td>\n",
       "      <td>2109</td>\n",
       "    </tr>\n",
       "    <tr>\n",
       "      <th></th>\n",
       "      <td>Diluted Normalized EPS</td>\n",
       "      <td>3.52</td>\n",
       "      <td>3.17</td>\n",
       "      <td>2.89</td>\n",
       "      <td>2.21</td>\n",
       "    </tr>\n",
       "    <tr>\n",
       "      <th></th>\n",
       "      <td>Total Equity</td>\n",
       "      <td>3769</td>\n",
       "      <td>2708</td>\n",
       "      <td>2185</td>\n",
       "      <td>1770</td>\n",
       "    </tr>\n",
       "    <tr>\n",
       "      <th></th>\n",
       "      <td>Total Common Shares Outstanding</td>\n",
       "      <td>475.32</td>\n",
       "      <td>475.53</td>\n",
       "      <td>479.56</td>\n",
       "      <td>486.13</td>\n",
       "    </tr>\n",
       "  </tbody>\n",
       "</table>\n",
       "<p>9595 rows × 5 columns</p>\n",
       "</div>"
      ],
      "text/plain": [
       "                           Indicator    2020    2019    2018    2017\n",
       "MMM                          revenue   32184   32136   32765   31657\n",
       "                     cost of revenue   16499   17160   16657   16062\n",
       "                        total assets   47344   44659   36500   37987\n",
       "                          net income    5384    4570    5349    4858\n",
       "     Accumulated Depreciation, Total  -17229  -16791  -16135  -16048\n",
       "..                               ...     ...     ...     ...     ...\n",
       "          Changes in Working Capital     -85    -151     112     -29\n",
       "                   retained earnings    5659    4427    3270    2109\n",
       "              Diluted Normalized EPS    3.52    3.17    2.89    2.21\n",
       "                        Total Equity    3769    2708    2185    1770\n",
       "     Total Common Shares Outstanding  475.32  475.53  479.56  486.13\n",
       "\n",
       "[9595 rows x 5 columns]"
      ]
     },
     "execution_count": 14,
     "metadata": {},
     "output_type": "execute_result"
    }
   ],
   "source": [
    "df_res"
   ]
  },
  {
   "cell_type": "code",
   "execution_count": 16,
   "id": "desirable-electronics",
   "metadata": {},
   "outputs": [],
   "source": [
    "df_res.to_excel('tables_usa_qf.xlsx')"
   ]
  },
  {
   "cell_type": "code",
   "execution_count": null,
   "id": "loving-coalition",
   "metadata": {},
   "outputs": [],
   "source": [
    "# # для добавления вручную, если некоторые тикеры отсутствуют после загрузки\n",
    "\n",
    "# bad_ticker = ''\n",
    "\n",
    "# driver = webdriver.Firefox()\n",
    "# extension_dir = '/Users/vladoo/Library/Application Support/Firefox/Profiles/dqobynzc.default-release/extensions/'\n",
    "# extensions = [\n",
    "#     'uBlock0@raymondhill.net.xpi',\n",
    "#     ]\n",
    "# for extension in extensions:\n",
    "#     driver.install_addon(extension_dir + extension, temporary=True)\n",
    "        \n",
    "# print(\"driver ready\")  \n",
    "\n",
    "# driver.get(getIncomeStatement(links[bad_ticker]))\n",
    "# try:\n",
    "#     driver.find_element_by_xpath('/html/body/div[5]/section/div[8]/div[1]/a[1]').click()\n",
    "# except: \n",
    "#     driver.find_element_by_xpath('/html/body/div[5]/section/div[9]/div[1]/a[1]').click()\n",
    "        \n",
    "# time.sleep(3)\n",
    "# res_list_income[bad_ticker] = driver.find_elements_by_xpath('/html/body/div[5]/section/div[9]/table/tbody[2]/tr')\n",
    "\n",
    "# n = 0\n",
    "# for el_inc in res_list_income[bad_ticker]:\n",
    "#     res_list_income[bad_ticker][n] = el_inc.text\n",
    "#     n+=1\n",
    "    \n",
    "# driver.close()"
   ]
  }
 ],
 "metadata": {
  "kernelspec": {
   "display_name": "Python 3",
   "language": "python",
   "name": "python3"
  },
  "language_info": {
   "codemirror_mode": {
    "name": "ipython",
    "version": 3
   },
   "file_extension": ".py",
   "mimetype": "text/x-python",
   "name": "python",
   "nbconvert_exporter": "python",
   "pygments_lexer": "ipython3",
   "version": "3.9.9"
  }
 },
 "nbformat": 4,
 "nbformat_minor": 5
}
